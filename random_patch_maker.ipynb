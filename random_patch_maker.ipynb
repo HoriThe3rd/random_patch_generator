{
 "cells": [
  {
   "cell_type": "code",
   "execution_count": 7,
   "metadata": {},
   "outputs": [],
   "source": [
    "import os\n",
    "import glob\n",
    "import numpy as np\n",
    "import cv2\n",
    "import random"
   ]
  },
  {
   "cell_type": "code",
   "execution_count": 8,
   "metadata": {},
   "outputs": [],
   "source": [
    "input_path = './images'\n",
    "output_path = './unlabeled'\n",
    "patch_width = 7\n",
    "patch_height = 7\n",
    "patch_num = 30"
   ]
  },
  {
   "cell_type": "code",
   "execution_count": 9,
   "metadata": {},
   "outputs": [],
   "source": [
    "# Make an input images index and check it.\n",
    "input_paths = sorted(glob.glob(f\"{input_path}/*.*\"))\n",
    "#print(input_paths)\n",
    "assert len(input_paths) > 0, \"Cannot find input images!!\"\n",
    "\n",
    "os.makedirs(output_path, exist_ok=False)\n",
    "os.makedirs(output_path+\"/patches\", exist_ok=False)\n",
    "os.makedirs(output_path+\"/marked\", exist_ok=False)\n",
    "\n",
    "# Loop for all images\n",
    "for i, path in enumerate(input_paths):\n",
    "    img = cv2.imread(path, cv2.IMREAD_COLOR)\n",
    "    img_marked = img.copy()\n",
    "\n",
    "    height, width = img.shape[0], img.shape[1]\n",
    "    half_p_width = patch_width // 2\n",
    "    half_p_height = patch_height // 2\n",
    "    corr_p_width = patch_width % 2\n",
    "    corr_p_height = patch_height % 2\n",
    "\n",
    "    # Create patch images\n",
    "    for j in range(0, patch_num):\n",
    "        # Select a pixel randomly\n",
    "        px = random.randint(half_p_width + 1, width - half_p_width - corr_p_width)\n",
    "        py = random.randint(half_p_height + 1, height - half_p_height - corr_p_height)\n",
    "        # Extract a patch image\n",
    "        p_img = img[\n",
    "                        py-half_p_height : py+half_p_height+corr_p_height,\n",
    "                        px-half_p_width : px+half_p_width+corr_p_width\n",
    "                    ]\n",
    "        # Put a rectangle marker on extracted area\n",
    "        img_marked = cv2.rectangle(img_marked, (px-half_p_width, py-half_p_height), (px+half_p_width, py+half_p_height), (0, 0, 255), 1)\n",
    "        # Save an image\n",
    "        file_name, file_extension = os.path.splitext(os.path.basename(path))\n",
    "        save_path = output_path + \"/patches/\" + file_name + \"-\" + str(j).zfill(5) + file_extension\n",
    "        cv2.imwrite(save_path, p_img)\n",
    "    # Save a marked image\n",
    "    cv2.imwrite(output_path + \"/marked/\" + file_name + \"-marked\" + file_extension, img_marked)"
   ]
  }
 ],
 "metadata": {
  "interpreter": {
   "hash": "8232a819e9a9432b83cb3511cf3798cd7ef9fba172bae795426b01a0a58c1540"
  },
  "kernelspec": {
   "display_name": "Python 3.10.4 64-bit ('cospa')",
   "language": "python",
   "name": "python3"
  },
  "language_info": {
   "codemirror_mode": {
    "name": "ipython",
    "version": 3
   },
   "file_extension": ".py",
   "mimetype": "text/x-python",
   "name": "python",
   "nbconvert_exporter": "python",
   "pygments_lexer": "ipython3",
   "version": "3.10.4"
  },
  "orig_nbformat": 4
 },
 "nbformat": 4,
 "nbformat_minor": 2
}
